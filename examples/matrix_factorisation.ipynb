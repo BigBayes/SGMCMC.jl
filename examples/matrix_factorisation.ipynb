{
 "cells": [
  {
   "cell_type": "code",
   "execution_count": 1,
   "metadata": {
    "collapsed": false
   },
   "outputs": [],
   "source": [
    "push!(LOAD_PATH,\"../src/\",\"../src/models/\",\"../src/models/c_functions/\")\n",
    "using SGMCMC\n",
    "using MatrixFactorisation"
   ]
  },
  {
   "cell_type": "code",
   "execution_count": 2,
   "metadata": {
    "collapsed": false
   },
   "outputs": [],
   "source": [
    "using JLD"
   ]
  },
  {
   "cell_type": "code",
   "execution_count": 3,
   "metadata": {
    "collapsed": false
   },
   "outputs": [],
   "source": [
    "# download MovieLens 100k dataset\n",
    "if !isfile(\"ml-100k/u1.base\")\n",
    "    run(`wget http://files.grouplens.org/datasets/movielens/ml-100k.zip`)\n",
    "    run(`unzip ml-100k.zip`)\n",
    "    run(`rm ml-100k.zip`)\n",
    "end"
   ]
  },
  {
   "cell_type": "code",
   "execution_count": 4,
   "metadata": {
    "collapsed": false
   },
   "outputs": [],
   "source": [
    "#load data\n",
    "trainset = readdlm(\"ml-100k/u1.base\")[:,1:3];\n",
    "testset = readdlm(\"ml-100k/u1.test\")[:,1:3];"
   ]
  },
  {
   "cell_type": "code",
   "execution_count": 5,
   "metadata": {
    "collapsed": false
   },
   "outputs": [
    {
     "data": {
      "text/plain": [
       "(80000,3)"
      ]
     },
     "execution_count": 5,
     "metadata": {},
     "output_type": "execute_result"
    }
   ],
   "source": [
    "#check size\n",
    "size(trainset)"
   ]
  },
  {
   "cell_type": "code",
   "execution_count": 6,
   "metadata": {
    "collapsed": false
   },
   "outputs": [],
   "source": [
    "#define models.\n",
    "mfmodel = MatrixFactorisationModel(trainset,5,10000,β₀=300);\n",
    "mftest = MatrixFactorisationModel(testset,5,10000);"
   ]
  },
  {
   "cell_type": "code",
   "execution_count": 7,
   "metadata": {
    "collapsed": false
   },
   "outputs": [
    {
     "data": {
      "text/plain": [
       "SGMCMC.SGLDState([0.0553979,0.0376624,0.131276,0.194805,0.0769204,-0.0202916,-0.149733,0.0883006,0.0319501,0.172276  …  0.0740418,0.0996171,0.135453,0.0236933,-0.00795913,-0.0352123,-0.0194444,-0.0594558,-0.121529,0.0694018],0,SGMCMC.s)"
      ]
     },
     "execution_count": 7,
     "metadata": {},
     "output_type": "execute_result"
    }
   ],
   "source": [
    "grad = DataModel.getgrad(mfmodel, λ = ones(mfmodel.d*2+2))\n",
    "s = SGMCMC.SGLDState(0.1*randn(MatrixFactorisation.fetchnparams(mfmodel)),1e-6)"
   ]
  },
  {
   "cell_type": "code",
   "execution_count": 8,
   "metadata": {
    "collapsed": false
   },
   "outputs": [
    {
     "data": {
      "text/plain": [
       "Dict{Symbol,Float64} with 1 entry:\n",
       "  :rmse => 1.13006"
      ]
     },
     "execution_count": 8,
     "metadata": {},
     "output_type": "execute_result"
    }
   ],
   "source": [
    "#get initial rmse\n",
    "MatrixFactorisation.evaluate(mfmodel,s.x)"
   ]
  },
  {
   "cell_type": "code",
   "execution_count": 9,
   "metadata": {
    "collapsed": false,
    "scrolled": true
   },
   "outputs": [
    {
     "name": "stdout",
     "output_type": "stream",
     "text": [
      "iteration 1000\n",
      "train rmse: Dict(:rmse=>1.08235)\n",
      "test rmse: Dict(:rmse=>1.1144)\n",
      "iteration 2000\n",
      "train rmse: Dict(:rmse=>1.05094)\n",
      "test rmse: Dict(:rmse=>1.08401)\n",
      "iteration 3000\n",
      "train rmse: Dict(:rmse=>1.02909)\n",
      "test rmse: Dict(:rmse=>1.06355)\n",
      "iteration 4000\n",
      "train rmse: Dict(:rmse=>1.01357)\n",
      "test rmse: Dict(:rmse=>1.04902)\n",
      "iteration 5000\n",
      "train rmse: Dict(:rmse=>1.00258)\n",
      "test rmse: Dict(:rmse=>1.03947)\n",
      "iteration 6000\n",
      "train rmse: Dict(:rmse=>0.993667)\n",
      "test rmse: Dict(:rmse=>1.03135)\n",
      "iteration 7000\n",
      "train rmse: Dict(:rmse=>0.987115)\n",
      "test rmse: Dict(:rmse=>1.02406)\n",
      "iteration 8000\n",
      "train rmse: Dict(:rmse=>0.980602)\n",
      "test rmse: Dict(:rmse=>1.01802)\n",
      "iteration 9000\n",
      "train rmse: Dict(:rmse=>0.976747)\n",
      "test rmse: Dict(:rmse=>1.01435)\n",
      "iteration 10000\n",
      "train rmse: Dict(:rmse=>0.972287)\n",
      "test rmse: Dict(:rmse=>1.0105)\n"
     ]
    }
   ],
   "source": [
    "#sample lambda hyperparameters\n",
    "λ = MatrixFactorisation.lambda_sample(mfmodel,s.x)\n",
    "# get new gradient\n",
    "grad = DataModel.getgrad(mfmodel,λ=λ)\n",
    "for i in 1:10000\n",
    "    sample!(s,grad)\n",
    "    if rem(i,10) == 0\n",
    "        # update hyperparameters every 10 SGLD steps.\n",
    "        λ = MatrixFactorisation.lambda_sample(mfmodel,s.x)\n",
    "        grad = DataModel.getgrad(mfmodel,λ=λ)\n",
    "    end\n",
    "    if rem(i,1000) == 0 \n",
    "        # evaluate train/test rmse every 1000 iterations.\n",
    "        println(\"iteration $i\")\n",
    "        println(\"train rmse: \", MatrixFactorisation.evaluate(mfmodel,s.x))\n",
    "        println(\"test rmse: \", MatrixFactorisation.evaluate_test(mftest,s.x,mfmodel))\n",
    "    end\n",
    "end"
   ]
  },
  {
   "cell_type": "code",
   "execution_count": 10,
   "metadata": {
    "collapsed": false
   },
   "outputs": [
    {
     "data": {
      "text/plain": [
       "MatrixFactorisation.SparseSGLDState([0.0188594,-0.00358597,0.0221352,0.0161686,0.0149696,-0.0324228,0.00695328,0.0164148,0.0166288,0.000985349  …  -0.00125548,-0.019739,0.00624112,-0.010793,0.0125397,0.00659125,-0.0258528,0.0489105,-0.00131484,0.006055],[0.0,0.0,0.0,0.0,0.0,0.0,0.0,0.0,0.0,0.0  …  0.0,0.0,0.0,0.0,0.0,0.0,0.0,0.0,0.0,0.0],[1.0,1.0,1.0,1.0,1.0,1.0,1.0,1.0,1.0,1.0,1.0,1.0],0,MatrixFactorisation.#13,1)"
      ]
     },
     "execution_count": 10,
     "metadata": {},
     "output_type": "execute_result"
    }
   ],
   "source": [
    "# use sparse SGLD sampler from Ahn et al.\n",
    "# Large-Scale Distributed Bayesian Matrix Factorization using Stochastic Gradient MCMC\n",
    "s = MatrixFactorisation.SparseSGLDState(0.02*randn(MatrixFactorisation.fetchnparams(mfmodel)),ones(2*mfmodel.d+2),1e-6,niters=1)"
   ]
  },
  {
   "cell_type": "code",
   "execution_count": 11,
   "metadata": {
    "collapsed": false
   },
   "outputs": [
    {
     "name": "stdout",
     "output_type": "stream",
     "text": [
      "iteration 1000\n",
      "train rmse: Dict(:rmse=>1.09362)\n",
      "test rmse: Dict(:rmse=>1.12823)\n",
      "iteration 2000\n",
      "train rmse: Dict(:rmse=>1.07379)\n",
      "test rmse: Dict(:rmse=>1.10971)\n",
      "iteration 3000\n",
      "train rmse: Dict(:rmse=>1.05658)\n",
      "test rmse: Dict(:rmse=>1.09258)\n",
      "iteration 4000\n",
      "train rmse: Dict(:rmse=>1.04383)\n",
      "test rmse: Dict(:rmse=>1.08025)\n",
      "iteration 5000\n",
      "train rmse: Dict(:rmse=>1.03352)\n",
      "test rmse: Dict(:rmse=>1.07034)\n",
      "iteration 6000\n",
      "train rmse: Dict(:rmse=>1.02371)\n",
      "test rmse: Dict(:rmse=>1.06137)\n",
      "iteration 7000\n",
      "train rmse: Dict(:rmse=>1.01635)\n",
      "test rmse: Dict(:rmse=>1.05483)\n",
      "iteration 8000\n",
      "train rmse: Dict(:rmse=>1.00999)\n",
      "test rmse: Dict(:rmse=>1.04833)\n",
      "iteration 9000\n",
      "train rmse: Dict(:rmse=>1.00451)\n",
      "test rmse: Dict(:rmse=>1.0434)\n",
      "iteration 10000\n",
      "train rmse: Dict(:rmse=>0.99982)\n",
      "test rmse: Dict(:rmse=>1.03824)\n"
     ]
    }
   ],
   "source": [
    "λ = MatrixFactorisation.lambda_sample(mfmodel,s.x)\n",
    "grad = DataModel.getgrad(mfmodel,λ=λ)\n",
    "for i in 1:10000\n",
    "    MatrixFactorisation.sample_sparse!(mfmodel,s)\n",
    "    if rem(i,10) == 0\n",
    "        λ = MatrixFactorisation.lambda_sample(mfmodel,s.x)\n",
    "        grad = DataModel.getgrad(mfmodel,λ=λ)\n",
    "    end\n",
    "    if rem(i,1000) == 0 \n",
    "        println(\"iteration $i\")\n",
    "        println(\"train rmse: \", MatrixFactorisation.evaluate(mfmodel,s.x))\n",
    "        println(\"test rmse: \", MatrixFactorisation.evaluate_test(mftest,s.x,mfmodel))\n",
    "    end\n",
    "end"
   ]
  }
 ],
 "metadata": {
  "anaconda-cloud": {},
  "kernelspec": {
   "display_name": "Julia 0.5.0",
   "language": "julia",
   "name": "julia-0.5"
  },
  "language_info": {
   "file_extension": ".jl",
   "mimetype": "application/julia",
   "name": "julia",
   "version": "0.5.0"
  }
 },
 "nbformat": 4,
 "nbformat_minor": 1
}
